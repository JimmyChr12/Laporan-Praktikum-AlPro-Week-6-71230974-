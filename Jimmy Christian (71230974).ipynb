{
 "cells": [
  {
   "cell_type": "code",
   "execution_count": 1,
   "id": "8ca449ce",
   "metadata": {},
   "outputs": [
    {
     "name": "stdout",
     "output_type": "stream",
     "text": [
      "Masukkan suatu bilangan: 12\n",
      "11\n"
     ]
    }
   ],
   "source": [
    "n = int(input(\"Masukkan suatu bilangan: \"))\n",
    "for i in range(n):\n",
    "    if i <= 1:\n",
    "        continue\n",
    "    elif i == 2 or i == 3 or i == 5 or i == 7:\n",
    "        hasil = i\n",
    "    elif i % 2 != 0 and i % 3 != 0 and i % 5 != 0 and i % 7 != 0:\n",
    "        hasil = i\n",
    "print (hasil)"
   ]
  },
  {
   "cell_type": "code",
   "execution_count": 2,
   "id": "df0c5e80",
   "metadata": {},
   "outputs": [
    {
     "name": "stdout",
     "output_type": "stream",
     "text": [
      "n = 6\n",
      "720 6 5 4 3 2 1 \n",
      "120 5 4 3 2 1 \n",
      "24 4 3 2 1 \n",
      "6 3 2 1 \n",
      "2 2 1 \n",
      "1 1 \n"
     ]
    }
   ],
   "source": [
    "n  = int(input(\"n = \"))\n",
    "hasil = 1\n",
    "for i in range(n):\n",
    "    for j in range(n-i):\n",
    "        hasil = hasil * (j+1)\n",
    "    print(hasil, end = \" \")\n",
    "    hasil = (hasil * 0) + 1\n",
    "    for k in range(n-i, 0, -1):\n",
    "        print (k, end = \" \")\n",
    "    print(\"\")"
   ]
  },
  {
   "cell_type": "code",
   "execution_count": 3,
   "id": "390e1d17",
   "metadata": {},
   "outputs": [
    {
     "name": "stdout",
     "output_type": "stream",
     "text": [
      "tinggi = 5\n",
      "lebar = 4\n",
      "1 2 3 4 \n",
      "5 6 7 8 \n",
      "9 10 11 12 \n",
      "13 14 15 16 \n",
      "17 18 19 20 \n"
     ]
    }
   ],
   "source": [
    "tinggi = int(input(\"tinggi = \"))\n",
    "lebar = int(input(\"lebar = \"))\n",
    "hasil = 0\n",
    "for i in range(1,tinggi+1):\n",
    "    hasil +=1\n",
    "    for j in range(hasil, lebar * i + 1):\n",
    "        print (j, end = \" \")\n",
    "    hasil = j\n",
    "    print(\"\")"
   ]
  }
 ],
 "metadata": {
  "kernelspec": {
   "display_name": "Python 3 (ipykernel)",
   "language": "python",
   "name": "python3"
  },
  "language_info": {
   "codemirror_mode": {
    "name": "ipython",
    "version": 3
   },
   "file_extension": ".py",
   "mimetype": "text/x-python",
   "name": "python",
   "nbconvert_exporter": "python",
   "pygments_lexer": "ipython3",
   "version": "3.11.5"
  }
 },
 "nbformat": 4,
 "nbformat_minor": 5
}
